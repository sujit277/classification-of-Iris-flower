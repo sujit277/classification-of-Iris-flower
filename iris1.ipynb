{
 "cells": [
  {
   "cell_type": "markdown",
   "metadata": {},
   "source": [
    "# classification of IRIS FLOWER using  MACHINE  LEARNING"
   ]
  },
  {
   "cell_type": "code",
   "execution_count": 58,
   "metadata": {},
   "outputs": [
    {
     "name": "stdout",
     "output_type": "stream",
     "text": [
      "(120, 4)\n",
      "(30, 4)\n",
      "(120,)\n",
      "(30,)\n",
      "[[4.6 3.4 1.4 0.3]\n",
      " [4.6 3.1 1.5 0.2]\n",
      " [5.7 2.5 5.  2. ]\n",
      " [4.8 3.  1.4 0.1]\n",
      " [4.8 3.4 1.9 0.2]\n",
      " [7.2 3.  5.8 1.6]\n",
      " [5.  3.  1.6 0.2]\n",
      " [6.7 2.5 5.8 1.8]\n",
      " [6.4 2.8 5.6 2.1]\n",
      " [4.8 3.  1.4 0.3]\n",
      " [5.3 3.7 1.5 0.2]\n",
      " [4.4 3.2 1.3 0.2]\n",
      " [5.  3.2 1.2 0.2]\n",
      " [5.4 3.9 1.7 0.4]\n",
      " [6.  3.4 4.5 1.6]\n",
      " [6.5 2.8 4.6 1.5]\n",
      " [4.5 2.3 1.3 0.3]\n",
      " [5.7 2.9 4.2 1.3]\n",
      " [6.7 3.3 5.7 2.5]\n",
      " [5.5 2.5 4.  1.3]\n",
      " [6.7 3.  5.  1.7]\n",
      " [6.4 2.9 4.3 1.3]\n",
      " [6.4 3.2 5.3 2.3]\n",
      " [5.6 2.7 4.2 1.3]\n",
      " [6.3 2.3 4.4 1.3]\n",
      " [4.7 3.2 1.6 0.2]\n",
      " [4.7 3.2 1.3 0.2]\n",
      " [6.1 3.  4.9 1.8]\n",
      " [5.1 3.8 1.9 0.4]\n",
      " [7.2 3.2 6.  1.8]]\n"
     ]
    }
   ],
   "source": [
    "from sklearn.datasets import load_iris\n",
    "iris=load_iris()\n",
    "#print(iris)\n",
    "##input  and output\n",
    "X=iris.data ## input\n",
    "Y=iris.target###output\n",
    "#print(X.shape)#(150,4)\n",
    "#print(Y.shape)#(150,)\n",
    "##split the data for training and testing\n",
    "from sklearn.model_selection import train_test_split\n",
    "X_train,X_test,Y_train,Y_test=train_test_split(X,Y,test_size=0.2,random_state=2)\n",
    "print(X_train.shape)#(120,4)\n",
    "print(X_test.shape)#(30,4)\n",
    "print(Y_train.shape)#(120,)\n",
    "print(Y_test.shape)#(30,)\n",
    "print(X_test)"
   ]
  },
  {
   "cell_type": "markdown",
   "metadata": {},
   "source": [
    "# Implement  KNN  MODEL"
   ]
  },
  {
   "cell_type": "code",
   "execution_count": 59,
   "metadata": {},
   "outputs": [],
   "source": [
    "def knn():\n",
    "    global acc_knn\n",
    "    global K\n",
    "    \n",
    "    from sklearn.neighbors import KNeighborsClassifier\n",
    "    K=KNeighborsClassifier(n_neighbors=5)\n",
    "    ###train the model\n",
    "    K.fit(X_train,Y_train)\n",
    "    ####test  the model\n",
    "    Y_pred_knn=K.predict(X_test)\n",
    "\n",
    "    ###find accuracy\n",
    "    from sklearn.metrics import accuracy_score\n",
    "\n",
    "    acc_knn=accuracy_score(Y_test,Y_pred_knn)\n",
    "    acc_knn=round(acc_knn*100,2)\n",
    "    m.showinfo(title='KNN',message=\"accuracy is\"+str(acc_knn)+\"%\")\n",
    "   \n",
    "\n",
    "   \n"
   ]
  },
  {
   "cell_type": "markdown",
   "metadata": {},
   "source": [
    "# Implement   Logistic Regression"
   ]
  },
  {
   "cell_type": "code",
   "execution_count": 60,
   "metadata": {},
   "outputs": [],
   "source": [
    "def lg():\n",
    "    global acc_lg\n",
    "    \n",
    "    #Implement  Logistic Regression\n",
    "    from sklearn.linear_model import LogisticRegression\n",
    "    L=LogisticRegression()\n",
    "    ##train the model\n",
    "    L.fit(X_train,Y_train)\n",
    "    ##test the model\n",
    "    Y_pred_lg=L.predict(X_test)\n",
    "    #find accuracy\n",
    "    from sklearn.metrics import accuracy_score\n",
    "    acc_lg=accuracy_score(Y_test,Y_pred_lg)\n",
    "    acc_lg=round(acc_lg*100,2)\n",
    "    m.showinfo(title='LG',message=\"accuracy is\"+str(acc_lg)+\"%\")\n",
    "    \n",
    "   "
   ]
  },
  {
   "cell_type": "markdown",
   "metadata": {},
   "source": [
    "# implement  Decision tree classifier"
   ]
  },
  {
   "cell_type": "code",
   "execution_count": 61,
   "metadata": {},
   "outputs": [],
   "source": [
    "def dt():\n",
    "    global acc_dt\n",
    "    ####Implement  Decision Tree algorithm\n",
    "    from sklearn.tree import DecisionTreeClassifier\n",
    "    D=DecisionTreeClassifier()\n",
    "    ##train the model\n",
    "    D.fit(X_train,Y_train)\n",
    "    ##test the model\n",
    "    Y_pred_dt=D.predict(X_test)\n",
    "    #find accuracy\n",
    "    from sklearn.metrics import accuracy_score\n",
    "    acc_dt=accuracy_score(Y_test,Y_pred_dt)\n",
    "    acc_dt=round(acc_dt*100,2)\n",
    "    m.showinfo(title='DT',message=\"accuracy is\"+str(acc_dt)+\"%\")\n",
    "  "
   ]
  },
  {
   "cell_type": "markdown",
   "metadata": {},
   "source": [
    "# Implement Naive Bayes  Algorithm"
   ]
  },
  {
   "cell_type": "code",
   "execution_count": 62,
   "metadata": {},
   "outputs": [],
   "source": [
    "def nb():\n",
    "    global acc_nb\n",
    "    \n",
    "    ## Implement Naive Bayes  Algorithm\n",
    "    from sklearn.naive_bayes  import GaussianNB\n",
    "    N=GaussianNB()\n",
    "    ##train the model\n",
    "    N.fit(X_train,Y_train)\n",
    "    ##test the model\n",
    "    Y_pred_nb=N.predict(X_test)\n",
    "    #find accuracy\n",
    "    from sklearn.metrics import accuracy_score\n",
    "    acc_nb=accuracy_score(Y_test,Y_pred_nb)\n",
    "    acc_nb=round(acc_nb*100,2)\n",
    "    m.showinfo(title='NB',message=\"accuracy is\"+str(acc_nb)+\"%\")"
   ]
  },
  {
   "cell_type": "markdown",
   "metadata": {},
   "source": [
    "# compare  the models"
   ]
  },
  {
   "cell_type": "code",
   "execution_count": 63,
   "metadata": {},
   "outputs": [],
   "source": [
    "def compare():\n",
    "    \n",
    "    import matplotlib.pyplot as plt\n",
    "    %matplotlib  inline\n",
    "    models=['KNN','LG','DT','NB']\n",
    "    accuracy=[acc_knn,acc_lg,acc_dt,acc_nb]\n",
    "    plt.bar(models,accuracy,color=['green','yellow','blue','orange'])\n",
    "    plt.xlabel(\"MODElS\")\n",
    "    plt.ylabel(\"ACCURACY\")\n",
    "    plt.show()"
   ]
  },
  {
   "cell_type": "code",
   "execution_count": 64,
   "metadata": {},
   "outputs": [],
   "source": [
    "def submit():\n",
    "    sl=float(v1.get())\n",
    "    sw=float(v2.get())\n",
    "    pl=float(v3.get())\n",
    "    pw=float(v4.get())\n",
    "    result=K.predict([[sl,sw,pl,pw]])\n",
    "    if result[0]==0:\n",
    "        flower='SETOSA'\n",
    "    elif result[0]==1:\n",
    "        flower='VERSICOLOR'\n",
    "    else:\n",
    "        flower='VIRGINICA'\n",
    "    m.showinfo(title=\"IRIS\",message=flower)\n",
    "\n",
    "   \n",
    "    \n",
    "    #0---setosa\n",
    "    #1--versicolor\n",
    "    #2---virginica\n",
    "    \n",
    "   "
   ]
  },
  {
   "cell_type": "code",
   "execution_count": 65,
   "metadata": {},
   "outputs": [],
   "source": [
    "def reset():\n",
    "    v1.set(\"\")\n",
    "    v2.set(\"\")\n",
    "    v3.set(\"\")\n",
    "    v4.set(\"\")"
   ]
  },
  {
   "cell_type": "markdown",
   "metadata": {},
   "source": [
    "#  Graphical  user  interface"
   ]
  },
  {
   "cell_type": "code",
   "execution_count": 66,
   "metadata": {},
   "outputs": [
    {
     "data": {
      "image/png": "[encoded data removed]",
      "text/plain": [
       "<Figure size 432x288 with 1 Axes>"
      ]
     },
     "metadata": {
      "needs_background": "light"
     },
     "output_type": "display_data"
    },
    {
     "data": {
      "image/png": "[encoded data removed]",
      "text/plain": [
       "<Figure size 432x288 with 1 Axes>"
      ]
     },
     "metadata": {
      "needs_background": "light"
     },
     "output_type": "display_data"
    },
    {
     "data": {
      "image/png": "[encoded data removed]",
      "text/plain": [
       "<Figure size 432x288 with 1 Axes>"
      ]
     },
     "metadata": {
      "needs_background": "light"
     },
     "output_type": "display_data"
    },
    {
     "data": {
      "image/png": "[encoded data removed]",
      "text/plain": [
       "<Figure size 432x288 with 1 Axes>"
      ]
     },
     "metadata": {
      "needs_background": "light"
     },
     "output_type": "display_data"
    },
    {
     "data": {
      "image/png": "[encoded data removed]",
      "text/plain": [
       "<Figure size 432x288 with 1 Axes>"
      ]
     },
     "metadata": {
      "needs_background": "light"
     },
     "output_type": "display_data"
    }
   ],
   "source": [
    "from tkinter import *\n",
    "import tkinter.messagebox as m\n",
    "w=Tk()\n",
    "v1=StringVar()\n",
    "v2=StringVar()\n",
    "v3=StringVar()\n",
    "v4=StringVar()\n",
    "L1=Label(w,text=\"IRIS FLOWER PREDICTION\",bg='cyan',relief='solid')\n",
    "Bknn=Button(w,text=\"KNN\",command=knn)\n",
    "Blg=Button(w,text=\"LG\",command=lg)\n",
    "Bdt=Button(w,text=\"DT\",command=dt)\n",
    "Bnb=Button(w,text=\"NB\",command=nb)\n",
    "Bcmp=Button(w,text=\"COMPARE\",command=compare)\n",
    "L2=Label(w,text=\"PREDICT FOR A NEW FLOWER\",bg='cyan',relief='solid')\n",
    "Lsl=Label(w,text=\"sepal length\")\n",
    "Lsw=Label(w,text=\"sepal width\")\n",
    "Lpl=Label(w,text=\"Petal length\")\n",
    "Lpw=Label(w,text=\"Petal width\")\n",
    "Esl=Entry(w,bg='yellow',width=10,textvariable=v1)\n",
    "Esw=Entry(w,bg='yellow',width=10,textvariable=v2)\n",
    "Epl=Entry(w,bg='yellow',width=10,textvariable=v3)\n",
    "Epw=Entry(w,bg='yellow',width=10,textvariable=v4)\n",
    "Bsubmit=Button(w,text='submit',command=submit)\n",
    "Breset=Button(w,text='reset',command=reset)\n",
    "########################################\n",
    "####  place  the components at proper position\n",
    "L1.grid(row=1,column=1,columnspan=4)\n",
    "Bknn.grid(row=2,column=1)\n",
    "Blg.grid(row=2,column=2)\n",
    "Bdt.grid(row=2,column=3)\n",
    "Bnb.grid(row=2,column=4)\n",
    "Bcmp.grid(row=3,column=2,columnspan=2)\n",
    "L2.grid(row=4,column=1,columnspan=4)\n",
    "Lsl.grid(row=5,column=1)\n",
    "Esl.grid(row=5,column=2)\n",
    "Lsw.grid(row=5,column=3)\n",
    "Esw.grid(row=5,column=4)\n",
    "#\n",
    "Lpl.grid(row=6,column=1)\n",
    "Epl.grid(row=6,column=2)\n",
    "Lpw.grid(row=6,column=3)\n",
    "Epw.grid(row=6,column=4)\n",
    "#\n",
    "Bsubmit.grid(row=7,column=1,columnspan=2)\n",
    "Breset.grid(row=7,column=3,columnspan=2)\n",
    "w.mainloop()\n",
    "\n",
    "\n",
    "\n"
   ]
  },
  {
   "cell_type": "code",
   "execution_count": null,
   "metadata": {},
   "outputs": [],
   "source": []
  }
 ],
 "metadata": {
  "kernelspec": {
   "display_name": "Python 3",
   "language": "python",
   "name": "python3"
  }
 },
 "nbformat": 4,
 "nbformat_minor": 2
}
